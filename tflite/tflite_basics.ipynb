{
  "nbformat": 4,
  "nbformat_minor": 0,
  "metadata": {
    "colab": {
      "name": "3_3_4_Colab.ipynb",
      "provenance": [],
      "include_colab_link": true
    },
    "kernelspec": {
      "name": "python3",
      "display_name": "Python 3"
    }
  },
  "cells": [
    {
      "cell_type": "markdown",
      "metadata": {
        "id": "view-in-github",
        "colab_type": "text"
      },
      "source": [
        "<a href=\"https://colab.research.google.com/github/wayne0git/ml_cv_basics/blob/master/tflite/tflite_basics.ipynb\" target=\"_parent\"><img src=\"https://colab.research.google.com/assets/colab-badge.svg\" alt=\"Open In Colab\"/></a>"
      ]
    },
    {
      "cell_type": "markdown",
      "metadata": {
        "id": "RJruOcIiUKel"
      },
      "source": [
        "## Tensorflow Lite Basics\r\n",
        "Ref - https://learning.edx.org/course/course-v1:HarvardX+TinyML2+3T2020"
      ]
    },
    {
      "cell_type": "code",
      "metadata": {
        "id": "O6k2Pg0gTYB8"
      },
      "source": [
        "import tensorflow as tf # 2.4.0\n",
        "import numpy as np   # 1.19.4"
      ],
      "execution_count": 1,
      "outputs": []
    },
    {
      "cell_type": "markdown",
      "metadata": {
        "id": "z-wlpRp_UZDm"
      },
      "source": [
        "### Prepare simple Tensorflow model"
      ]
    },
    {
      "cell_type": "code",
      "metadata": {
        "id": "YAwdHf6ySQGt"
      },
      "source": [
        "from tensorflow.keras.models import Sequential\n",
        "from tensorflow.keras.layers import Dense\n",
        "\n",
        "# Linear regression model\n",
        "model = Sequential([Dense(units=1, input_shape=[1])])\n",
        "model.compile(optimizer='sgd', loss='mean_squared_error')\n",
        "\n",
        "# Train\n",
        "xs = np.array([-1.0, 0.0, 1.0, 2.0, 3.0, 4.0], dtype=float)\n",
        "ys = np.array([-3.0, -1.0, 1.0, 3.0, 5.0, 7.0], dtype=float)\n",
        "\n",
        "model.fit(xs, ys, epochs=500)"
      ],
      "execution_count": null,
      "outputs": []
    },
    {
      "cell_type": "code",
      "metadata": {
        "colab": {
          "base_uri": "https://localhost:8080/"
        },
        "id": "Bsa3r3UwYGXw",
        "outputId": "0a9fd07c-e150-4ace-c9bd-1a486087e912"
      },
      "source": [
        "# Check result\r\n",
        "print(model.predict([10.0]))\r\n",
        "print(\"Here is what I learned: {}\".format(model.layers[0].get_weights()))"
      ],
      "execution_count": 3,
      "outputs": [
        {
          "output_type": "stream",
          "text": [
            "[[18.977861]]\n",
            "Here is what I learned: [array([[1.9967912]], dtype=float32), array([-0.9900514], dtype=float32)]\n"
          ],
          "name": "stdout"
        }
      ]
    },
    {
      "cell_type": "code",
      "metadata": {
        "id": "SOs_IDM6ToaM",
        "colab": {
          "base_uri": "https://localhost:8080/"
        },
        "outputId": "488e0f7f-3061-4898-f544-1551af1d9b6f"
      },
      "source": [
        "# Save Tensorflow Model\n",
        "# *.pb / assets / variables\n",
        "export_dir = 'saved_model/1'\n",
        "tf.saved_model.save(model, export_dir)"
      ],
      "execution_count": 4,
      "outputs": [
        {
          "output_type": "stream",
          "text": [
            "INFO:tensorflow:Assets written to: saved_model/1/assets\n"
          ],
          "name": "stdout"
        }
      ]
    },
    {
      "cell_type": "markdown",
      "metadata": {
        "id": "08HjCdHuVx_n"
      },
      "source": [
        "### Tensorflow Lite Converter"
      ]
    },
    {
      "cell_type": "code",
      "metadata": {
        "id": "lWSlkprhTsWE"
      },
      "source": [
        "# Init the converter\n",
        "converter = tf.lite.TFLiteConverter.from_saved_model(export_dir)"
      ],
      "execution_count": 22,
      "outputs": []
    },
    {
      "cell_type": "code",
      "metadata": {
        "id": "o5tjRxmLY2G_"
      },
      "source": [
        "# 1. Convert Options (No Optimization)\r\n",
        "converter.optimizations = []\r\n",
        "\r\n",
        "# 2. Convert Options (Default Optimization)\r\n",
        "#converter.optimizations = [tf.lite.Optimize.DEFAULT]\r\n",
        "#converter.optimizations = [tf.lite.Optimize.OPTIMIZE_FOR_LATENCY]\r\n",
        "#converter.optimizations = [tf.lite.Optimize.OPTIMIZE_FOR_SIZE]\r\n",
        "\r\n",
        "# 3. Quantization based on tensorflow_datasets object\r\n",
        "#def representative_data_gen():                          # Uncomment the following lines for Model 3\r\n",
        "#    for input_value, _ in test_batches.take(100):\r\n",
        "#        yield [input_value]\r\n",
        "# converter.representative_dataset = representative_data_gen\r\n",
        "# converter.target_spec.supported_ops = [tf.lite.OpsSet.TFLITE_BUILTINS_INT8]"
      ],
      "execution_count": 23,
      "outputs": []
    },
    {
      "cell_type": "code",
      "metadata": {
        "id": "mAEPkAPYZCjU"
      },
      "source": [
        "# Convert the model\r\n",
        "tflite_model = converter.convert()"
      ],
      "execution_count": 24,
      "outputs": []
    },
    {
      "cell_type": "code",
      "metadata": {
        "id": "lsaEjJfrTujk",
        "colab": {
          "base_uri": "https://localhost:8080/"
        },
        "outputId": "644436d9-218a-4e42-9f0f-17103081ed58"
      },
      "source": [
        "# Save the TFLite model\n",
        "import pathlib\n",
        "tflite_model_file = pathlib.Path('model.tflite')\n",
        "tflite_model_file.write_bytes(tflite_model) # Return the total byte number of the model"
      ],
      "execution_count": 25,
      "outputs": [
        {
          "output_type": "execute_result",
          "data": {
            "text/plain": [
              "944"
            ]
          },
          "metadata": {
            "tags": []
          },
          "execution_count": 25
        }
      ]
    },
    {
      "cell_type": "markdown",
      "metadata": {
        "id": "bNSvtDj7Wg1X"
      },
      "source": [
        "### Tensorflow Lite Interpreter"
      ]
    },
    {
      "cell_type": "code",
      "metadata": {
        "id": "PguT-zY3W50o"
      },
      "source": [
        "# Load TFLite model (From File)\r\n",
        "interpreter = tf.lite.Interpreter(model_path='model.tflite')\r\n",
        "\r\n",
        "# Load TFLite model (From convert model)\r\n",
        "# interpreter = tf.lite.Interpreter(model_content=tflite_model)"
      ],
      "execution_count": null,
      "outputs": []
    },
    {
      "cell_type": "code",
      "metadata": {
        "id": "fseX4pkhTzS0"
      },
      "source": [
        "# Allocate tensors.\n",
        "interpreter.allocate_tensors()"
      ],
      "execution_count": null,
      "outputs": []
    },
    {
      "cell_type": "code",
      "metadata": {
        "colab": {
          "base_uri": "https://localhost:8080/"
        },
        "id": "Emi5aWGrXJdP",
        "outputId": "d9b00466-1f3c-4146-f3f7-8e5e54c9e189"
      },
      "source": [
        "# Get input and output tensors.\r\n",
        "input_details = interpreter.get_input_details()\r\n",
        "output_details = interpreter.get_output_details()\r\n",
        "print(input_details) # list[dict]\r\n",
        "print(output_details) # list[dict]"
      ],
      "execution_count": null,
      "outputs": [
        {
          "output_type": "stream",
          "text": [
            "[{'name': 'serving_default_dense_1_input:0', 'index': 0, 'shape': array([1, 1], dtype=int32), 'shape_signature': array([-1,  1], dtype=int32), 'dtype': <class 'numpy.float32'>, 'quantization': (0.0, 0), 'quantization_parameters': {'scales': array([], dtype=float32), 'zero_points': array([], dtype=int32), 'quantized_dimension': 0}, 'sparsity_parameters': {}}]\n",
            "[{'name': 'StatefulPartitionedCall:0', 'index': 3, 'shape': array([1, 1], dtype=int32), 'shape_signature': array([-1,  1], dtype=int32), 'dtype': <class 'numpy.float32'>, 'quantization': (0.0, 0), 'quantization_parameters': {'scales': array([], dtype=float32), 'zero_points': array([], dtype=int32), 'quantized_dimension': 0}, 'sparsity_parameters': {}}]\n"
          ],
          "name": "stdout"
        }
      ]
    },
    {
      "cell_type": "code",
      "metadata": {
        "id": "k_Ij8_BvU0KV",
        "colab": {
          "base_uri": "https://localhost:8080/"
        },
        "outputId": "591659f4-a5be-4834-9f21-2770810569a4"
      },
      "source": [
        "# Inference\n",
        "interpreter.set_tensor(input_details[0]['index'], np.array([[10.0]], dtype=np.float32))\n",
        "interpreter.invoke()\n",
        "interpreter.get_tensor(output_details[0]['index'])"
      ],
      "execution_count": null,
      "outputs": [
        {
          "output_type": "execute_result",
          "data": {
            "text/plain": [
              "array([[18.987093]], dtype=float32)"
            ]
          },
          "metadata": {
            "tags": []
          },
          "execution_count": 19
        }
      ]
    }
  ]
}